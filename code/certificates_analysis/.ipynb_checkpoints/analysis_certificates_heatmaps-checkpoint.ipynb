{
 "cells": [
  {
   "cell_type": "code",
   "execution_count": 2,
   "metadata": {},
   "outputs": [
    {
     "name": "stderr",
     "output_type": "stream",
     "text": [
      "ERROR:root:File `'pytorch_data_loader.ipynb.py'` not found.\n",
      "ERROR:root:File `'../util/data_loader.ipynb.py'` not found.\n"
     ]
    },
    {
     "ename": "NameError",
     "evalue": "name 'CIFAR10' is not defined",
     "output_type": "error",
     "traceback": [
      "\u001b[0;31m---------------------------------------------------------------------------\u001b[0m",
      "\u001b[0;31mNameError\u001b[0m                                 Traceback (most recent call last)",
      "\u001b[0;32m/NS/twitter-7/work/vnanda/adversarial_disparity/adversarial_disparity/helper.ipynb\u001b[0m in \u001b[0;36m<module>\u001b[0;34m\u001b[0m\n\u001b[0;32m----> 1\u001b[0;31m DATASET_TO_OBJECT_MAPPING = {'cifar10': CIFAR10, 'utkface': UTKFace, 'adience': Adience,\n\u001b[0m\u001b[1;32m      2\u001b[0m                              \u001b[0;34m'cifar100'\u001b[0m\u001b[0;34m:\u001b[0m \u001b[0mCIFAR100\u001b[0m\u001b[0;34m,\u001b[0m \u001b[0;34m'cifar100super'\u001b[0m\u001b[0;34m:\u001b[0m \u001b[0mCIFAR100super\u001b[0m\u001b[0;34m,\u001b[0m\u001b[0;34m\u001b[0m\u001b[0;34m\u001b[0m\u001b[0m\n\u001b[1;32m      3\u001b[0m                              'utkface2': UTKFace2,}\n\u001b[1;32m      4\u001b[0m DATASET_TO_MODEL_NAMES = {'cifar10': ['deep_cnn','mlp1_cifar','conv2_cifar',\n\u001b[1;32m      5\u001b[0m                                       'resnet','alexnet', 'vgg','squeezenet','densenet'], \n",
      "\u001b[0;31mNameError\u001b[0m: name 'CIFAR10' is not defined"
     ]
    }
   ],
   "source": [
    "import numpy as np\n",
    "import pandas as pd\n",
    "import glob\n",
    "from matplotlib import pyplot as plt\n",
    "\n",
    "import sys\n",
    "sys.path.insert(0, '..')\n",
    "sys.path.insert(0, '../../util')\n",
    "\n",
    "import helper as hp\n",
    "# %run ../helper.ipynb"
   ]
  },
  {
   "cell_type": "code",
   "execution_count": 79,
   "metadata": {},
   "outputs": [],
   "source": [
    "dataset_to_labels = {\n",
    "    'cifar10': ['airplane', 'automobile', 'bird', 'cat', 'deer', 'dog', 'frog', 'horse', 'ship', 'truck'],\n",
    "    \n",
    "    'utkface': ['0-15', '15-25', '25-40', '40-60', '60+'],\n",
    "    \n",
    "    'adience': ['0-2', '4-6', '8-13', '15-20', '25-32', '38-43', '48-53', '60-'],\n",
    "    \n",
    "    'cifar100': ['beaver', 'dolphin', 'otter', 'seal', 'whale',\n",
    "        'aquarium_fish', 'flatfish', 'ray', 'shark', 'trout',\n",
    "        'orchid', 'poppy', 'rose', 'sunflower', 'tulip',\n",
    "        'bottle', 'bowl', 'can', 'cup', 'plate',\n",
    "        'apple', 'mushroom', 'orange', 'pear', 'sweet_pepper',\n",
    "        'clock', 'keyboard', 'lamp', 'telephone', 'television',\n",
    "        'bed', 'chair', 'couch', 'table', 'wardrobe',\n",
    "        'bee', 'beetle', 'butterfly', 'caterpillar', 'cockroach',\n",
    "        'bear', 'leopard', 'lion', 'tiger', 'wolf',\n",
    "        'bridge', 'castle', 'house', 'road', 'skyscraper',\n",
    "        'cloud', 'forest', 'mountain', 'plain', 'sea',\n",
    "        'camel', 'cattle', 'chimpanzee', 'elephant', 'kangaroo',\n",
    "        'fox', 'porcupine', 'possum', 'raccoon', 'skunk',\n",
    "        'crab', 'lobster', 'snail', 'spider', 'worm',\n",
    "        'baby', 'boy', 'girl', 'man', 'woman',\n",
    "        'crocodile', 'dinosaur', 'lizard', 'snake', 'turtle',\n",
    "        'hamster', 'mouse', 'rabbit', 'shrew', 'squirrel',\n",
    "        'maple_tree', 'oak_tree', 'palm_tree', 'pine_tree', 'willow_tree',\n",
    "        'bicycle', 'bus', 'motorcycle', 'pickup_truck', 'train',\n",
    "        'lawn_mower', 'rocket', 'streetcar', 'tank', 'tractor'],\n",
    "    \n",
    "    'cifar100super': ['aquatic_mammals', 'fish', 'flowers', 'food_containers',\n",
    "        'fruit_and_vegetables', 'household_electrical_devices',\n",
    "        'household_furniture', 'insects', 'large_carnivores',\n",
    "        'large_man-made_outdoor_things', 'large_natural_outdoor_scenes',\n",
    "        'large_omnivores_and_herbivores', 'medium_mammals',\n",
    "        'non-insect_invertebrates', 'people', 'reptiles', 'small_mammals',\n",
    "        'trees', 'vehicles_1', 'vehicles_2']\n",
    "}\n",
    "\n",
    "dataset_to_root_dir = {\n",
    "    'cifar10': '/NS/twitter-7/work/vnanda/adversarial_disparity/microsoft-smoothing/code/cifar10',\n",
    "    'utkface': '/NS/twitter-7/work/vnanda/adversarial_disparity/microsoft-smoothing/code/utkface',\n",
    "    'adience': '/NS/twitter-7/work/vnanda/adversarial_disparity/microsoft-smoothing/code/adience',\n",
    "    'cifar100': '/NS/twitter-7/work/vnanda/adversarial_disparity/microsoft-smoothing/code/cifar100',\n",
    "    'cifar100super': '/NS/twitter-7/work/vnanda/adversarial_disparity/microsoft-smoothing/code/cifar100super'\n",
    "}\n",
    "\n",
    "dataset_to_sens_attrs = {\n",
    "    'cifar10': ['label'],\n",
    "    'utkface': ['label', 'gender', 'race'],\n",
    "    'adience': ['label', 'gender'],\n",
    "    'cifar100': ['label'],\n",
    "    'cifar100super': ['label']\n",
    "}\n",
    "\n",
    "dataset_to_model_names = {\n",
    "    'utkface': ['utk_classifier', 'resnet', 'alexnet', 'vgg', 'densenet', 'squeezenet'],\n",
    "    'cifar10': ['deep_cnn', 'pyramidnet', 'resnet', 'vgg', 'densenet', 'squeezenet'],\n",
    "    'cifar100': ['deep_cnn_cifar100', 'pyramidnet', 'resnet', 'vgg', 'densenet', 'squeezenet'],\n",
    "    'cifar100super': ['deep_cnn_cifar100', 'pyramidnet', 'resnet', 'vgg', 'densenet', 'squeezenet'],\n",
    "    'adience': ['adience_classifier', 'resnet', 'alexnet', 'vgg', 'densenet', 'squeezenet']\n",
    "}"
   ]
  },
  {
   "cell_type": "code",
   "execution_count": 102,
   "metadata": {},
   "outputs": [],
   "source": [
    "dataset = 'cifar100super'\n",
    "labels = dataset_to_labels[dataset]\n",
    "root_dir = dataset_to_root_dir[dataset]\n",
    "sens_attrs = dataset_to_sens_attrs[dataset]\n",
    "models = dataset_to_model_names[dataset]\n",
    "# lb_files = glob.glob('{}/*'.format(root_dir))\n",
    "lb_files = ['{}/{}_output'.format(root_dir, m) for m in models]\n",
    "lb_files_epoch_0 = ['{}/{}_epoch_0_output'.format(root_dir, m) for m in models]\n",
    "\n",
    "paper_friendly_plots = True\n",
    "\n",
    "COLORS = ['blue', 'red', 'green', 'orange', 'magenta', 'yellow', 'black', 'grey', 'cyan']"
   ]
  },
  {
   "cell_type": "code",
   "execution_count": 103,
   "metadata": {},
   "outputs": [
    {
     "ename": "KeyError",
     "evalue": "'cifar100super'",
     "output_type": "error",
     "traceback": [
      "\u001b[0;31m---------------------------------------------------------------------------\u001b[0m",
      "\u001b[0;31mKeyError\u001b[0m                                  Traceback (most recent call last)",
      "\u001b[0;32m<ipython-input-103-18d2ebcb964e>\u001b[0m in \u001b[0;36m<module>\u001b[0;34m\u001b[0m\n\u001b[1;32m      1\u001b[0m \u001b[0mds_obj\u001b[0m\u001b[0;34m,\u001b[0m \u001b[0mdatasets\u001b[0m\u001b[0;34m,\u001b[0m \u001b[0mdata_loaders\u001b[0m \u001b[0;34m=\u001b[0m\u001b[0;31m \u001b[0m\u001b[0;31m\\\u001b[0m\u001b[0;34m\u001b[0m\u001b[0;34m\u001b[0m\u001b[0m\n\u001b[0;32m----> 2\u001b[0;31m     \u001b[0mhp\u001b[0m\u001b[0;34m.\u001b[0m\u001b[0mget_data_loder_objects\u001b[0m\u001b[0;34m(\u001b[0m\u001b[0mdataset\u001b[0m\u001b[0;34m,\u001b[0m \u001b[0;34m[\u001b[0m\u001b[0;34m'test'\u001b[0m\u001b[0;34m]\u001b[0m\u001b[0;34m,\u001b[0m \u001b[0mroot_dir\u001b[0m\u001b[0;34m=\u001b[0m\u001b[0;34m'..'\u001b[0m\u001b[0;34m,\u001b[0m \u001b[0;34m**\u001b[0m\u001b[0mhp\u001b[0m\u001b[0;34m.\u001b[0m\u001b[0mget_loader_kwargs\u001b[0m\u001b[0;34m(\u001b[0m\u001b[0mbatch_size\u001b[0m\u001b[0;34m=\u001b[0m\u001b[0;36m100\u001b[0m\u001b[0;34m)\u001b[0m\u001b[0;34m)\u001b[0m\u001b[0;34m\u001b[0m\u001b[0;34m\u001b[0m\u001b[0m\n\u001b[0m",
      "\u001b[0;32m/NS/twitter-7/work/vnanda/adversarial_disparity/adversarial_disparity/helper.py\u001b[0m in \u001b[0;36mget_data_loder_objects\u001b[0;34m(dataset_name, phases, root_dir, **kwargs)\u001b[0m\n\u001b[1;32m     60\u001b[0m \u001b[0;32mdef\u001b[0m \u001b[0mget_data_loder_objects\u001b[0m\u001b[0;34m(\u001b[0m\u001b[0mdataset_name\u001b[0m\u001b[0;34m,\u001b[0m \u001b[0mphases\u001b[0m\u001b[0;34m,\u001b[0m \u001b[0mroot_dir\u001b[0m\u001b[0;34m=\u001b[0m\u001b[0;34m'.'\u001b[0m\u001b[0;34m,\u001b[0m \u001b[0;34m**\u001b[0m\u001b[0mkwargs\u001b[0m\u001b[0;34m)\u001b[0m\u001b[0;34m:\u001b[0m\u001b[0;34m\u001b[0m\u001b[0;34m\u001b[0m\u001b[0m\n\u001b[1;32m     61\u001b[0m     \u001b[0mstem_dataset_name\u001b[0m \u001b[0;34m=\u001b[0m \u001b[0mdataset_name\u001b[0m\u001b[0;34m.\u001b[0m\u001b[0msplit\u001b[0m\u001b[0;34m(\u001b[0m\u001b[0;34m'_'\u001b[0m\u001b[0;34m)\u001b[0m\u001b[0;34m[\u001b[0m\u001b[0;36m0\u001b[0m\u001b[0;34m]\u001b[0m\u001b[0;34m\u001b[0m\u001b[0;34m\u001b[0m\u001b[0m\n\u001b[0;32m---> 62\u001b[0;31m     \u001b[0mds_obj\u001b[0m \u001b[0;34m=\u001b[0m \u001b[0mDATASET_TO_OBJECT_MAPPING\u001b[0m\u001b[0;34m[\u001b[0m\u001b[0mstem_dataset_name\u001b[0m\u001b[0;34m.\u001b[0m\u001b[0mlower\u001b[0m\u001b[0;34m(\u001b[0m\u001b[0;34m)\u001b[0m\u001b[0;34m]\u001b[0m\u001b[0;34m(\u001b[0m\u001b[0mdataset_name\u001b[0m\u001b[0;34m,\u001b[0m \u001b[0mroot_dir\u001b[0m\u001b[0;34m)\u001b[0m\u001b[0;34m\u001b[0m\u001b[0;34m\u001b[0m\u001b[0m\n\u001b[0m\u001b[1;32m     63\u001b[0m     \u001b[0;31m# Wrap the DataLoader object via a PyTorchLoader\u001b[0m\u001b[0;34m\u001b[0m\u001b[0;34m\u001b[0m\u001b[0;34m\u001b[0m\u001b[0m\n\u001b[1;32m     64\u001b[0m     \u001b[0mdatasets\u001b[0m \u001b[0;34m=\u001b[0m \u001b[0;34m{\u001b[0m\u001b[0mx\u001b[0m \u001b[0;34m:\u001b[0m \u001b[0mPytorchLoader\u001b[0m\u001b[0;34m(\u001b[0m\u001b[0mds\u001b[0m\u001b[0;34m=\u001b[0m\u001b[0mds_obj\u001b[0m\u001b[0;34m,\u001b[0m \u001b[0mportion\u001b[0m\u001b[0;34m=\u001b[0m\u001b[0mx\u001b[0m\u001b[0;34m)\u001b[0m \u001b[0;32mfor\u001b[0m \u001b[0mx\u001b[0m \u001b[0;32min\u001b[0m \u001b[0mphases\u001b[0m\u001b[0;34m}\u001b[0m\u001b[0;34m\u001b[0m\u001b[0;34m\u001b[0m\u001b[0m\n",
      "\u001b[0;31mKeyError\u001b[0m: 'cifar100super'"
     ]
    }
   ],
   "source": [
    "ds_obj, datasets, data_loaders = \\\n",
    "    hp.get_data_loder_objects(dataset, ['test'], root_dir='..', **hp.get_loader_kwargs(batch_size=100))"
   ]
  },
  {
   "cell_type": "code",
   "execution_count": 104,
   "metadata": {},
   "outputs": [
    {
     "data": {
      "text/plain": [
       "(['/NS/twitter-7/work/vnanda/adversarial_disparity/microsoft-smoothing/code/cifar100super/deep_cnn_cifar100_output',\n",
       "  '/NS/twitter-7/work/vnanda/adversarial_disparity/microsoft-smoothing/code/cifar100super/pyramidnet_output',\n",
       "  '/NS/twitter-7/work/vnanda/adversarial_disparity/microsoft-smoothing/code/cifar100super/resnet_output',\n",
       "  '/NS/twitter-7/work/vnanda/adversarial_disparity/microsoft-smoothing/code/cifar100super/vgg_output',\n",
       "  '/NS/twitter-7/work/vnanda/adversarial_disparity/microsoft-smoothing/code/cifar100super/densenet_output',\n",
       "  '/NS/twitter-7/work/vnanda/adversarial_disparity/microsoft-smoothing/code/cifar100super/squeezenet_output'],\n",
       " ['/NS/twitter-7/work/vnanda/adversarial_disparity/microsoft-smoothing/code/cifar100super/deep_cnn_cifar100_epoch_0_output',\n",
       "  '/NS/twitter-7/work/vnanda/adversarial_disparity/microsoft-smoothing/code/cifar100super/pyramidnet_epoch_0_output',\n",
       "  '/NS/twitter-7/work/vnanda/adversarial_disparity/microsoft-smoothing/code/cifar100super/resnet_epoch_0_output',\n",
       "  '/NS/twitter-7/work/vnanda/adversarial_disparity/microsoft-smoothing/code/cifar100super/vgg_epoch_0_output',\n",
       "  '/NS/twitter-7/work/vnanda/adversarial_disparity/microsoft-smoothing/code/cifar100super/densenet_epoch_0_output',\n",
       "  '/NS/twitter-7/work/vnanda/adversarial_disparity/microsoft-smoothing/code/cifar100super/squeezenet_epoch_0_output'])"
      ]
     },
     "execution_count": 104,
     "metadata": {},
     "output_type": "execute_result"
    }
   ],
   "source": [
    "lb_files, lb_files_epoch_0"
   ]
  },
  {
   "cell_type": "code",
   "execution_count": 94,
   "metadata": {},
   "outputs": [],
   "source": [
    "def set_paper_friendly_plots_params():\n",
    "    plt.style.use('seaborn-paper')\n",
    "    plt.rcParams['font.size'] = 10\n",
    "    plt.rcParams['axes.labelsize'] = 22\n",
    "    plt.rcParams['axes.labelweight'] = 'bold'\n",
    "    plt.rcParams['axes.titlesize'] = 15\n",
    "    plt.rcParams['axes.linewidth'] = 1.25\n",
    "    plt.rcParams['xtick.labelsize'] = 16\n",
    "    plt.rcParams['ytick.labelsize'] = 16\n",
    "    plt.rcParams['legend.fontsize'] = 20\n",
    "    plt.rcParams['figure.titlesize'] = 22\n",
    "    plt.rcParams['lines.linewidth'] = 4.0\n",
    "    plt.rcParams['grid.color'] = 'grey'\n",
    "    plt.rcParams['grid.linestyle'] = '--'\n",
    "    plt.rcParams['grid.linewidth'] = 0.25\n",
    "    plt.rcParams['figure.dpi'] = 50\n",
    "    plt.rcParams['savefig.dpi'] = 50"
   ]
  },
  {
   "cell_type": "code",
   "execution_count": 95,
   "metadata": {},
   "outputs": [],
   "source": [
    "heatmaps_for_sens_attrs, heatmaps_for_sens_attrs_epoch_0, x_labels, x_labels_epoch_0 = [], [], [], []\n",
    "\n",
    "for sens_attr in sens_attrs:\n",
    "    \n",
    "    if sens_attr == 'gender':\n",
    "\n",
    "        heatmaps_for_sens_attrs.append(np.zeros((len(models), len(ds_obj.genders))))\n",
    "        heatmaps_for_sens_attrs_epoch_0.append(np.zeros((len(models), len(ds_obj.genders))))\n",
    "\n",
    "        x_labels.append([ds_obj.get_image_protected_id_to_label(_id, 'gender') for _id in ds_obj.genders])\n",
    "        x_labels_epoch_0.append([ds_obj.get_image_protected_id_to_label(_id, 'gender') for _id in ds_obj.genders])\n",
    "\n",
    "    elif sens_attr == 'race':\n",
    "        \n",
    "        heatmaps_for_sens_attrs.append(np.zeros((len(models), len(ds_obj.races))))\n",
    "        heatmaps_for_sens_attrs_epoch_0.append(np.zeros((len(models), len(ds_obj.races))))\n",
    "        \n",
    "        x_labels.append([ds_obj.get_image_protected_id_to_label(_id, 'race') for _id in ds_obj.races])\n",
    "        x_labels_epoch_0.append([ds_obj.get_image_protected_id_to_label(_id, 'race') for _id in ds_obj.races])\n",
    "\n",
    "    elif sens_attr == 'label':\n",
    "        \n",
    "        heatmaps_for_sens_attrs.append(np.zeros((len(models), len(ds_obj.classes))))\n",
    "        heatmaps_for_sens_attrs_epoch_0.append(np.zeros((len(models), len(ds_obj.classes))))\n",
    "        \n",
    "        x_labels.append(ds_obj.classes)\n",
    "        x_labels_epoch_0.append(ds_obj.classes)\n",
    "\n",
    "    else:\n",
    "        raise ValueError('Sens attr {} not supported!'.format(sens_attr))"
   ]
  },
  {
   "cell_type": "code",
   "execution_count": 96,
   "metadata": {},
   "outputs": [
    {
     "data": {
      "text/plain": [
       "([['airplane',\n",
       "   'automobile',\n",
       "   'bird',\n",
       "   'cat',\n",
       "   'deer',\n",
       "   'dog',\n",
       "   'frog',\n",
       "   'horse',\n",
       "   'ship',\n",
       "   'truck']],\n",
       " [['airplane',\n",
       "   'automobile',\n",
       "   'bird',\n",
       "   'cat',\n",
       "   'deer',\n",
       "   'dog',\n",
       "   'frog',\n",
       "   'horse',\n",
       "   'ship',\n",
       "   'truck']])"
      ]
     },
     "execution_count": 96,
     "metadata": {},
     "output_type": "execute_result"
    }
   ],
   "source": [
    "x_labels, x_labels_epoch_0"
   ]
  },
  {
   "cell_type": "code",
   "execution_count": 97,
   "metadata": {},
   "outputs": [
    {
     "name": "stdout",
     "output_type": "stream",
     "text": [
      "2000\n",
      "1726\n",
      "{0: 158, 1: 192, 2: 166, 3: 168, 4: 186, 5: 140, 6: 183, 7: 170, 8: 182, 9: 181}\n",
      "2000\n",
      "1719\n",
      "{0: 170, 1: 195, 2: 168, 3: 150, 4: 174, 5: 143, 6: 171, 7: 181, 8: 184, 9: 183}\n",
      "2000\n",
      "1665\n",
      "{0: 160, 1: 185, 2: 173, 3: 157, 4: 172, 5: 133, 6: 167, 7: 177, 8: 174, 9: 167}\n",
      "2000\n",
      "1788\n",
      "{0: 164, 1: 202, 2: 186, 3: 165, 4: 182, 5: 146, 6: 183, 7: 185, 8: 186, 9: 189}\n",
      "2000\n",
      "1673\n",
      "{0: 158, 1: 191, 2: 154, 3: 142, 4: 169, 5: 146, 6: 182, 7: 178, 8: 179, 9: 174}\n",
      "2000\n",
      "1539\n",
      "{0: 151, 1: 166, 2: 133, 3: 130, 4: 165, 5: 108, 6: 169, 7: 159, 8: 177, 9: 181}\n",
      "629\n",
      "80\n",
      "deep_cnn_epoch_0_output {4: 80}\n",
      "93\n",
      "55\n",
      "pyramidnet_epoch_0_output {0: 1, 1: 7, 2: 4, 3: 2, 4: 3, 5: 5, 6: 7, 7: 7, 8: 7, 9: 12}\n"
     ]
    },
    {
     "name": "stderr",
     "output_type": "stream",
     "text": [
      "/NS/twitter-7/work/vnanda/miniconda3/envs/adv_disparity/lib/python3.7/site-packages/ipykernel_launcher.py:53: RuntimeWarning: invalid value encountered in long_scalars\n"
     ]
    },
    {
     "name": "stdout",
     "output_type": "stream",
     "text": [
      "2000\n",
      "1480\n",
      "resnet_epoch_0_output {0: 143, 1: 167, 2: 121, 3: 142, 4: 159, 5: 99, 6: 156, 7: 158, 8: 173, 9: 162}\n",
      "510\n",
      "408\n",
      "vgg_epoch_0_output {0: 40, 1: 44, 2: 37, 3: 25, 4: 53, 5: 30, 6: 46, 7: 43, 8: 41, 9: 49}\n",
      "1101\n",
      "858\n",
      "densenet_epoch_0_output {0: 89, 1: 104, 2: 71, 3: 57, 4: 106, 5: 57, 6: 87, 7: 102, 8: 90, 9: 95}\n",
      "2000\n",
      "205\n",
      "squeezenet_epoch_0_output {7: 205}\n"
     ]
    },
    {
     "name": "stderr",
     "output_type": "stream",
     "text": [
      "/NS/twitter-7/work/vnanda/miniconda3/envs/adv_disparity/lib/python3.7/site-packages/ipykernel_launcher.py:53: RuntimeWarning: invalid value encountered in long_scalars\n"
     ]
    }
   ],
   "source": [
    "for model_idx, file in enumerate(lb_files):\n",
    "    for heatmap_idx, sens_attr in enumerate(sens_attrs):\n",
    "        df = pd.read_csv(file, sep='\\t')\n",
    "        print (len(df))\n",
    "        try:\n",
    "            df = df[df['label'] == df['base_prediction']] # take only correct predictions\n",
    "        except:\n",
    "            df = df[df['label'] == df['base']] # take only correct predictions\n",
    "        print (len(df))\n",
    "        unique, counts = np.unique(df['label'].to_numpy(), return_counts=True)\n",
    "        print (dict(zip(unique, counts)))\n",
    "        range_lb = np.linspace(np.min(df['radius']), np.max(df['radius']), 100)\n",
    "        \n",
    "        if paper_friendly_plots:\n",
    "            set_paper_friendly_plots_params()\n",
    "        \n",
    "        for idx, attr in enumerate(np.unique(df[sens_attr].to_numpy())):\n",
    "            minority_radii, majority_radii = df['radius'][df[sens_attr] == attr], \\\n",
    "                df['radius'][df[sens_attr] != attr]\n",
    "            minority_cdf_vals = np.array([np.sum(minority_radii > t)/len(minority_radii) for t in range_lb])\n",
    "            majority_cdf_vals = np.array([np.sum(majority_radii > t)/len(majority_radii) for t in range_lb])\n",
    "            dt = range_lb[1] - range_lb[0]\n",
    "            minority_auc = np.sum(minority_cdf_vals * dt)\n",
    "            majority_auc = np.sum(majority_cdf_vals * dt)\n",
    "            \n",
    "            if sens_attr == 'label':\n",
    "                y_coord = int(attr)\n",
    "            else:\n",
    "                y_coord = ds_obj.get_image_protected_label_to_id(attr, sens_attr)\n",
    "\n",
    "            heatmaps_for_sens_attrs[heatmap_idx][model_idx, y_coord] = (minority_auc - majority_auc)/majority_auc\n",
    "\n",
    "for model_idx, file in enumerate(lb_files_epoch_0):\n",
    "    for heatmap_idx, sens_attr in enumerate(sens_attrs):\n",
    "        df = pd.read_csv(file, sep='\\t')\n",
    "        print (len(df))\n",
    "        try:\n",
    "            df = df[df['label'] == df['base_prediction']] # take only correct predictions\n",
    "        except:\n",
    "            df = df[df['label'] == df['base']] # take only correct predictions\n",
    "        print (len(df))\n",
    "        unique, counts = np.unique(df['label'].to_numpy(), return_counts=True)\n",
    "        print (file.split('/')[-1], dict(zip(unique, counts)))\n",
    "        range_lb = np.linspace(np.min(df['radius']), np.max(df['radius']), 100)\n",
    "        \n",
    "        if paper_friendly_plots:\n",
    "            set_paper_friendly_plots_params()\n",
    "        \n",
    "        for idx, attr in enumerate(np.unique(df[sens_attr].to_numpy())):\n",
    "            minority_radii, majority_radii = df['radius'][df[sens_attr] == attr], \\\n",
    "                df['radius'][df[sens_attr] != attr]\n",
    "            minority_cdf_vals = np.array([np.sum(minority_radii > t)/len(minority_radii) for t in range_lb])\n",
    "            majority_cdf_vals = np.array([np.sum(majority_radii > t)/len(majority_radii) for t in range_lb])\n",
    "            dt = range_lb[1] - range_lb[0]\n",
    "            minority_auc = np.sum(minority_cdf_vals * dt)\n",
    "            majority_auc = np.sum(majority_cdf_vals * dt)\n",
    "            \n",
    "            if sens_attr == 'label':\n",
    "                y_coord = int(attr)\n",
    "            else:\n",
    "                y_coord = ds_obj.get_image_protected_label_to_id(attr, sens_attr)\n",
    "            \n",
    "            sigma = (minority_auc - majority_auc)/majority_auc\n",
    "            heatmaps_for_sens_attrs_epoch_0[heatmap_idx][model_idx, y_coord] = sigma \\\n",
    "                if not np.isnan(sigma) else 0."
   ]
  },
  {
   "cell_type": "code",
   "execution_count": 98,
   "metadata": {},
   "outputs": [
    {
     "data": {
      "text/plain": [
       "10"
      ]
     },
     "execution_count": 98,
     "metadata": {},
     "output_type": "execute_result"
    }
   ],
   "source": [
    "heatmaps_for_sens_attrs[0].shape[1]"
   ]
  },
  {
   "cell_type": "code",
   "execution_count": 99,
   "metadata": {},
   "outputs": [
    {
     "data": {
      "text/plain": [
       "[array([[-0.20357883,  0.11727117, -0.1702679 , -0.32764727,  0.05812822,\n",
       "         -0.37219037,  1.22223634, -0.24676697, -0.02967884, -0.03876565],\n",
       "        [-0.42765517,  0.04808811, -0.15550424, -0.55484823, -0.11465477,\n",
       "         -0.49463189,  1.04311938, -0.45077685,  0.76188604,  0.41533821],\n",
       "        [-0.24838696,  0.07359914, -0.11299022, -0.46102751,  0.16971773,\n",
       "         -0.29488826,  0.40565838,  0.07481578, -0.01583594,  0.37608389],\n",
       "        [-0.20238517, -0.09481505, -0.14684239, -0.29175597, -0.00269572,\n",
       "         -0.4744615 ,  0.55937189, -0.14352775,  0.34434261,  0.40805483],\n",
       "        [-0.39055637,  0.18391146, -0.17399845, -0.29307914,  0.1370918 ,\n",
       "         -0.38481037,  0.31350253,  0.09891386,  0.01088547,  0.38257179],\n",
       "        [-0.2126105 , -0.00365207, -0.34949734, -0.49365167, -0.06696156,\n",
       "         -0.23563828,  0.55560418,  0.00809597,  0.08011161,  0.50997149]])]"
      ]
     },
     "execution_count": 99,
     "metadata": {},
     "output_type": "execute_result"
    }
   ],
   "source": [
    "heatmaps_for_sens_attrs"
   ]
  },
  {
   "cell_type": "markdown",
   "metadata": {},
   "source": [
    "## Plotting the heatmaps"
   ]
  },
  {
   "cell_type": "code",
   "execution_count": 100,
   "metadata": {},
   "outputs": [],
   "source": [
    "from matplotlib.gridspec import GridSpec\n",
    "from matplotlib import colors"
   ]
  },
  {
   "cell_type": "code",
   "execution_count": 101,
   "metadata": {},
   "outputs": [
    {
     "name": "stdout",
     "output_type": "stream",
     "text": [
      "['airplane', 'automobile', 'bird', 'cat', 'deer', 'dog', 'frog', 'horse', 'ship', 'truck']\n",
      "['airplane', 'automobile', 'bird', 'cat', 'deer', 'dog', 'frog', 'horse', 'ship', 'truck']\n"
     ]
    },
    {
     "data": {
      "image/png": "[encoded data removed]",
      "text/plain": [
       "<Figure size 1000x400 with 3 Axes>"
      ]
     },
     "metadata": {
      "needs_background": "light"
     },
     "output_type": "display_data"
    }
   ],
   "source": [
    "op_filename = '{}_lbs_heatmap'.format(dataset)\n",
    "\n",
    "fig = plt.figure(figsize=(20,8))\n",
    "\n",
    "if dataset == 'utkface':\n",
    "\n",
    "    gs = GridSpec(1, 7, width_ratios=[10., 4., 10., 10., 10., 4., 10.])\n",
    "\n",
    "    axes = [fig.add_subplot(gs[0]), fig.add_subplot(gs[1]), fig.add_subplot(gs[2])]\n",
    "    axes_epoch_0 = [fig.add_subplot(gs[4]), fig.add_subplot(gs[5]), fig.add_subplot(gs[6])]\n",
    "\n",
    "elif dataset == 'adience':\n",
    "    \n",
    "    gs = GridSpec(1, 5, width_ratios=[10., 2.5, 5., 10., 2.5])\n",
    "    axes = [fig.add_subplot(gs[0]), fig.add_subplot(gs[1])]\n",
    "    axes_epoch_0 = [fig.add_subplot(gs[3]), fig.add_subplot(gs[4])]\n",
    "\n",
    "elif dataset == 'cifar10':\n",
    "    \n",
    "    gs = GridSpec(1, 3, width_ratios=[10., 2.5, 10.])\n",
    "    axes = [fig.add_subplot(gs[0])]\n",
    "    axes_epoch_0 = [fig.add_subplot(gs[2])]\n",
    "\n",
    "elif dataset == 'cifar100super':\n",
    "    \n",
    "    gs = GridSpec(1, 3, width_ratios=[10., 2.5, 10.])\n",
    "    axes = [fig.add_subplot(gs[0])]\n",
    "    axes_epoch_0 = [fig.add_subplot(gs[2])]\n",
    "\n",
    "pcms = []\n",
    "\n",
    "m = np.max([np.max(np.abs(hm)) for hm in heatmaps_for_sens_attrs + heatmaps_for_sens_attrs_epoch_0])\n",
    "\n",
    "for (idx, heatmap), x_label in zip(enumerate(heatmaps_for_sens_attrs), x_labels):\n",
    "    print (x_label)\n",
    "    pcms.append(axes[idx].imshow(heatmap, cmap='RdBu', \n",
    "                     norm=colors.SymLogNorm(linthresh=0.03, linscale=0.03, vmin=-m, vmax=m)))\n",
    "    axes[idx].set_xticks(range(len(x_label)))\n",
    "    axes[idx].set_xticklabels(x_label, rotation=90, fontsize=18)\n",
    "    axes[idx].set_yticks(range(heatmap.shape[0]))\n",
    "    if idx == 0:\n",
    "        axes[idx].set_yticklabels(models, fontsize=18)\n",
    "    else:\n",
    "        axes[idx].set_yticklabels([])\n",
    "\n",
    "for (idx, heatmap), x_label in zip(enumerate(heatmaps_for_sens_attrs_epoch_0), x_labels_epoch_0):\n",
    "    print (x_label)\n",
    "    pcms.append(axes_epoch_0[idx].imshow(heatmap, cmap='RdBu', \n",
    "                     norm=colors.SymLogNorm(linthresh=0.03, linscale=0.03, vmin=-m, vmax=m)))\n",
    "    axes_epoch_0[idx].set_xticks(range(len(x_label)))\n",
    "    axes_epoch_0[idx].set_xticklabels(x_label, rotation=90, fontsize=18)\n",
    "    axes_epoch_0[idx].set_yticks(range(heatmap.shape[0]))\n",
    "    if idx == 0:\n",
    "        axes_epoch_0[idx].set_yticklabels(models, fontsize=18)\n",
    "    else:\n",
    "        axes_epoch_0[idx].set_yticklabels([])\n",
    "\n",
    "        \n",
    "cbar = plt.colorbar(pcms[0], ax=axes + axes_epoch_0, use_gridspec=True, \n",
    "                    fraction=0.02, ticks=np.linspace(-m, m, 7))\n",
    "cbar.ax.set_yticklabels(['{:.2f}'.format(x) for x in np.linspace(-m, m, 7)], fontsize=16)\n",
    "\n",
    "# fig.suptitle(\"Final Trained Model\", fontsize=30)\n",
    "\n",
    "if dataset == 'utkface':\n",
    "    heading_coordinate = (3, -3)\n",
    "    subplot_1_coordinate = (-5., -1.5)\n",
    "    subplot_2_coordinate = (-4.5, -1.5)\n",
    "    axis_1, axis_2 = axes[1], axes_epoch_0[1]\n",
    "elif dataset == 'adience':\n",
    "    heading_coordinate = (1, -3)\n",
    "    subplot_1_coordinate = (-7., -1.5)\n",
    "    subplot_2_coordinate = (-6.7, -1.5)\n",
    "    axis_1, axis_2 = axes[1], axes_epoch_0[1]\n",
    "elif dataset == 'cifar10':\n",
    "    heading_coordinate = (7, -3)\n",
    "    subplot_1_coordinate = (1.5, -1.5)\n",
    "    subplot_2_coordinate = (2, -1.5)\n",
    "    axis_1, axis_2 = axes[0], axes_epoch_0[0]\n",
    "elif dataset == 'cifar100super':\n",
    "    heading_coordinate = (7, -3)\n",
    "    subplot_1_coordinate = (1.5, -1.5)\n",
    "    subplot_2_coordinate = (2, -1.5)\n",
    "    axis_1, axis_2 = axes[0], axes_epoch_0[0]\n",
    "\n",
    "    \n",
    "axis_1.text(*heading_coordinate, \n",
    "              \"Randomized Smoothing\",\n",
    "              fontsize=30)\n",
    "axis_1.text(*subplot_1_coordinate, \n",
    "              \"Final Trained Model\",\n",
    "              fontsize=25)\n",
    "axis_2.text(*subplot_2_coordinate, \n",
    "              \"After Epoch 1\",\n",
    "              fontsize=25)\n",
    "\n",
    "\n",
    "file_format = 'pdf' if paper_friendly_plots else 'png'\n",
    "        \n",
    "plt.savefig('{}/{}.{}'.format(dataset, op_filename, file_format), bbox_inches='tight')\n",
    "plt.show()"
   ]
  },
  {
   "cell_type": "code",
   "execution_count": null,
   "metadata": {},
   "outputs": [],
   "source": []
  }
 ],
 "metadata": {
  "kernelspec": {
   "display_name": "Python 3",
   "language": "python",
   "name": "python3"
  },
  "language_info": {
   "codemirror_mode": {
    "name": "ipython",
    "version": 3
   },
   "file_extension": ".py",
   "mimetype": "text/x-python",
   "name": "python",
   "nbconvert_exporter": "python",
   "pygments_lexer": "ipython3",
   "version": "3.7.6"
  }
 },
 "nbformat": 4,
 "nbformat_minor": 2
}
